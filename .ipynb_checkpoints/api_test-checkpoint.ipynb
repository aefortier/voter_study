{
 "cells": [
  {
   "cell_type": "code",
   "execution_count": 6,
   "metadata": {},
   "outputs": [],
   "source": [
    "import requests\n",
    "import pandas as pd"
   ]
  },
  {
   "cell_type": "code",
   "execution_count": 13,
   "metadata": {
    "collapsed": true
   },
   "outputs": [],
   "source": [
    "data = requests.get('https://api.census.gov/data/1987/cbp/')\n",
    "data = data.json()"
   ]
  },
  {
   "cell_type": "code",
   "execution_count": 15,
   "metadata": {},
   "outputs": [
    {
     "data": {
      "text/plain": [
       "{'@context': 'https://project-open-data.cio.gov/v1.1/schema/catalog.jsonld',\n",
       " '@id': 'https://api.census.gov/data/1987/cbp.json',\n",
       " '@type': 'dcat:Catalog',\n",
       " 'conformsTo': 'https://project-open-data.cio.gov/v1.1/schema',\n",
       " 'dataset': [{'@type': 'dcat:Dataset',\n",
       "   'accessLevel': 'public',\n",
       "   'bureauCode': ['006:07'],\n",
       "   'c_dataset': ['cbp'],\n",
       "   'c_documentationLink': 'http://www.census.gov/developer/',\n",
       "   'c_examplesLink': 'https://api.census.gov/data/1987/cbp/examples.json',\n",
       "   'c_geographyLink': 'https://api.census.gov/data/1987/cbp/geography.json',\n",
       "   'c_groupsLink': 'https://api.census.gov/data/1987/cbp/groups.json',\n",
       "   'c_isAggregate': True,\n",
       "   'c_isAvailable': True,\n",
       "   'c_validValuesLink': 'https://api.census.gov/data/1987/cbp/validValues.json',\n",
       "   'c_variablesLink': 'https://api.census.gov/data/1987/cbp/variables.json',\n",
       "   'c_vintage': 1987,\n",
       "   'contactPoint': {'fn': 'CBP Staff',\n",
       "    'hasEmail': 'ewd.county.business.patterns@census.gov'},\n",
       "   'description': 'County Business Patterns (CBP) is an annual series that provides economic data by industry at the U.S., State, County and Metropolitan Area levels. This series includes the number of establishments, employment during the week of March 12, first quarter payroll, and annual payroll. CBP provides statistics for businesses with paid employees for the U.S., Puerto Rico, and the Island Areas. Census Bureau staff identified a processing error that affects selected data from the 2014 County Business Patterns (CBP). As a result, we suppressed 2014 employment and payroll totals in the Health Care and Social Assistance sector (Sector 62) for the following geographies: U.S.; Michigan; Battle Creek, MI metro area; Calhoun County, MI; and the 3rd congressional district of Michigan. This processing error did not affect other sectors. While suppressed values can be derived by subtraction, we do not recommend using the derived values in any analyses.  The Census Bureau plans to release revised statistics at a later date.',\n",
       "   'distribution': [{'@type': 'dcat:Distribution',\n",
       "     'accessURL': 'https://api.census.gov/data/1987/cbp',\n",
       "     'description': 'API endpoint',\n",
       "     'format': 'API',\n",
       "     'mediaType': 'application/json',\n",
       "     'title': 'API endpoint'}],\n",
       "   'identifier': 'http://api.census.gov/data/id/CBP1987',\n",
       "   'license': 'http://creativecommons.org/publicdomain/zero/1.0/Public Domain',\n",
       "   'modified': '2017-05-23',\n",
       "   'programCode': ['006:007'],\n",
       "   'publisher': {'@type': 'org:Organization',\n",
       "    'name': 'U.S. Census Bureau',\n",
       "    'subOrganizationOf': {'@type': 'org:Organization',\n",
       "     'name': 'U.S. Department Of Commerce',\n",
       "     'subOrganizationOf': {'@type': 'org:Organization',\n",
       "      'name': 'U.S. Government'}}},\n",
       "   'references': ['http://www.census.gov/developers/'],\n",
       "   'spatial': 'United States',\n",
       "   'temporal': '1987/1987',\n",
       "   'title': '1987 County Business Patterns: Business Patterns'}],\n",
       " 'describedBy': 'https://project-open-data.cio.gov/v1.1/schema/catalog.json'}"
      ]
     },
     "execution_count": 15,
     "metadata": {},
     "output_type": "execute_result"
    }
   ],
   "source": [
    "data"
   ]
  },
  {
   "cell_type": "code",
   "execution_count": 7,
   "metadata": {
    "collapsed": true
   },
   "outputs": [],
   "source": [
    "data = [\n",
    "    ['COUNTY', 'FIPS County Code'],\n",
    "    ['EMP', 'Total Number of Employees'],\n",
    "    ['EMPSZES_TTL', 'Title of Employment size of establishment'],\n",
    "    ['EMP_F', 'Flag for Number of employees'],\n",
    "    ['ESTAB', 'Total number of Establishments'],\n",
    "    ['ESTAB_F', 'Flag for Total number of Establishments'],\n",
    "    ['GEOTYPE', 'Geography type'],\n",
    "    ['GEO_ID', 'ID of Geography'],\n",
    "    ['GEO_TTL', 'Title of Geography'],\n",
    "    ['MSA' , 'Metropolitan/Micropolitan Statistical Area Code'],\n",
    "    ['PAYANN', 'Total Annual Payroll'],\n",
    "    ['PAYANN_F', 'Flag for Total Annual Payroll'],\n",
    "    ['PAYQTR1', 'Total First Quarter Payroll'],\n",
    "    ['PAYQTR1_F', 'Flag for Total First Quarter Payroll'],\n",
    "    ['PROGRAM', 'PROGRAM'],\n",
    "    ['SIC', 'SIC Industry Code'],\n",
    "    ['SIC_TTL', 'Title of SIC code'],\n",
    "    ['ST', 'FIPS State Code'],\n",
    "    ['YEAR', 'Year']\n",
    "]"
   ]
  },
  {
   "cell_type": "code",
   "execution_count": 9,
   "metadata": {},
   "outputs": [],
   "source": [
    "all_vars = pd.DataFrame(data, columns = ['var', 'full_var'])"
   ]
  },
  {
   "cell_type": "code",
   "execution_count": 16,
   "metadata": {},
   "outputs": [],
   "source": [
    "all_vars['api'] = 'cbp_1987'"
   ]
  },
  {
   "cell_type": "code",
   "execution_count": 17,
   "metadata": {},
   "outputs": [
    {
     "data": {
      "text/html": [
       "<div>\n",
       "<style>\n",
       "    .dataframe thead tr:only-child th {\n",
       "        text-align: right;\n",
       "    }\n",
       "\n",
       "    .dataframe thead th {\n",
       "        text-align: left;\n",
       "    }\n",
       "\n",
       "    .dataframe tbody tr th {\n",
       "        vertical-align: top;\n",
       "    }\n",
       "</style>\n",
       "<table border=\"1\" class=\"dataframe\">\n",
       "  <thead>\n",
       "    <tr style=\"text-align: right;\">\n",
       "      <th></th>\n",
       "      <th>var</th>\n",
       "      <th>full_var</th>\n",
       "      <th>api</th>\n",
       "    </tr>\n",
       "  </thead>\n",
       "  <tbody>\n",
       "    <tr>\n",
       "      <th>0</th>\n",
       "      <td>COUNTY</td>\n",
       "      <td>FIPS County Code</td>\n",
       "      <td>cbp_1987</td>\n",
       "    </tr>\n",
       "    <tr>\n",
       "      <th>1</th>\n",
       "      <td>EMP</td>\n",
       "      <td>Total Number of Employees</td>\n",
       "      <td>cbp_1987</td>\n",
       "    </tr>\n",
       "    <tr>\n",
       "      <th>2</th>\n",
       "      <td>EMPSZES_TTL</td>\n",
       "      <td>Title of Employment size of establishment</td>\n",
       "      <td>cbp_1987</td>\n",
       "    </tr>\n",
       "    <tr>\n",
       "      <th>3</th>\n",
       "      <td>EMP_F</td>\n",
       "      <td>Flag for Number of employees</td>\n",
       "      <td>cbp_1987</td>\n",
       "    </tr>\n",
       "    <tr>\n",
       "      <th>4</th>\n",
       "      <td>ESTAB</td>\n",
       "      <td>Total number of Establishments</td>\n",
       "      <td>cbp_1987</td>\n",
       "    </tr>\n",
       "    <tr>\n",
       "      <th>5</th>\n",
       "      <td>ESTAB_F</td>\n",
       "      <td>Flag for Total number of Establishments</td>\n",
       "      <td>cbp_1987</td>\n",
       "    </tr>\n",
       "    <tr>\n",
       "      <th>6</th>\n",
       "      <td>GEOTYPE</td>\n",
       "      <td>Geography type</td>\n",
       "      <td>cbp_1987</td>\n",
       "    </tr>\n",
       "    <tr>\n",
       "      <th>7</th>\n",
       "      <td>GEO_ID</td>\n",
       "      <td>ID of Geography</td>\n",
       "      <td>cbp_1987</td>\n",
       "    </tr>\n",
       "    <tr>\n",
       "      <th>8</th>\n",
       "      <td>GEO_TTL</td>\n",
       "      <td>Title of Geography</td>\n",
       "      <td>cbp_1987</td>\n",
       "    </tr>\n",
       "    <tr>\n",
       "      <th>9</th>\n",
       "      <td>MSA</td>\n",
       "      <td>Metropolitan/Micropolitan Statistical Area Code</td>\n",
       "      <td>cbp_1987</td>\n",
       "    </tr>\n",
       "    <tr>\n",
       "      <th>10</th>\n",
       "      <td>PAYANN</td>\n",
       "      <td>Total Annual Payroll</td>\n",
       "      <td>cbp_1987</td>\n",
       "    </tr>\n",
       "    <tr>\n",
       "      <th>11</th>\n",
       "      <td>PAYANN_F</td>\n",
       "      <td>Flag for Total Annual Payroll</td>\n",
       "      <td>cbp_1987</td>\n",
       "    </tr>\n",
       "    <tr>\n",
       "      <th>12</th>\n",
       "      <td>PAYQTR1</td>\n",
       "      <td>Total First Quarter Payroll</td>\n",
       "      <td>cbp_1987</td>\n",
       "    </tr>\n",
       "    <tr>\n",
       "      <th>13</th>\n",
       "      <td>PAYQTR1_F</td>\n",
       "      <td>Flag for Total First Quarter Payroll</td>\n",
       "      <td>cbp_1987</td>\n",
       "    </tr>\n",
       "    <tr>\n",
       "      <th>14</th>\n",
       "      <td>PROGRAM</td>\n",
       "      <td>PROGRAM</td>\n",
       "      <td>cbp_1987</td>\n",
       "    </tr>\n",
       "    <tr>\n",
       "      <th>15</th>\n",
       "      <td>SIC</td>\n",
       "      <td>SIC Industry Code</td>\n",
       "      <td>cbp_1987</td>\n",
       "    </tr>\n",
       "    <tr>\n",
       "      <th>16</th>\n",
       "      <td>SIC_TTL</td>\n",
       "      <td>Title of SIC code</td>\n",
       "      <td>cbp_1987</td>\n",
       "    </tr>\n",
       "    <tr>\n",
       "      <th>17</th>\n",
       "      <td>ST</td>\n",
       "      <td>FIPS State Code</td>\n",
       "      <td>cbp_1987</td>\n",
       "    </tr>\n",
       "    <tr>\n",
       "      <th>18</th>\n",
       "      <td>YEAR</td>\n",
       "      <td>Year</td>\n",
       "      <td>cbp_1987</td>\n",
       "    </tr>\n",
       "  </tbody>\n",
       "</table>\n",
       "</div>"
      ],
      "text/plain": [
       "            var                                         full_var       api\n",
       "0        COUNTY                                 FIPS County Code  cbp_1987\n",
       "1           EMP                        Total Number of Employees  cbp_1987\n",
       "2   EMPSZES_TTL        Title of Employment size of establishment  cbp_1987\n",
       "3         EMP_F                     Flag for Number of employees  cbp_1987\n",
       "4         ESTAB                   Total number of Establishments  cbp_1987\n",
       "5       ESTAB_F          Flag for Total number of Establishments  cbp_1987\n",
       "6       GEOTYPE                                   Geography type  cbp_1987\n",
       "7        GEO_ID                                  ID of Geography  cbp_1987\n",
       "8       GEO_TTL                               Title of Geography  cbp_1987\n",
       "9           MSA  Metropolitan/Micropolitan Statistical Area Code  cbp_1987\n",
       "10       PAYANN                             Total Annual Payroll  cbp_1987\n",
       "11     PAYANN_F                    Flag for Total Annual Payroll  cbp_1987\n",
       "12      PAYQTR1                      Total First Quarter Payroll  cbp_1987\n",
       "13    PAYQTR1_F             Flag for Total First Quarter Payroll  cbp_1987\n",
       "14      PROGRAM                                          PROGRAM  cbp_1987\n",
       "15          SIC                                SIC Industry Code  cbp_1987\n",
       "16      SIC_TTL                                Title of SIC code  cbp_1987\n",
       "17           ST                                  FIPS State Code  cbp_1987\n",
       "18         YEAR                                             Year  cbp_1987"
      ]
     },
     "execution_count": 17,
     "metadata": {},
     "output_type": "execute_result"
    }
   ],
   "source": [
    "all_vars"
   ]
  },
  {
   "cell_type": "code",
   "execution_count": null,
   "metadata": {
    "collapsed": true
   },
   "outputs": [],
   "source": []
  },
  {
   "cell_type": "code",
   "execution_count": null,
   "metadata": {
    "collapsed": true
   },
   "outputs": [],
   "source": []
  },
  {
   "cell_type": "code",
   "execution_count": null,
   "metadata": {
    "collapsed": true
   },
   "outputs": [],
   "source": []
  },
  {
   "cell_type": "code",
   "execution_count": null,
   "metadata": {
    "collapsed": true
   },
   "outputs": [],
   "source": []
  },
  {
   "cell_type": "code",
   "execution_count": null,
   "metadata": {
    "collapsed": true
   },
   "outputs": [],
   "source": []
  },
  {
   "cell_type": "code",
   "execution_count": null,
   "metadata": {
    "collapsed": true
   },
   "outputs": [],
   "source": []
  },
  {
   "cell_type": "code",
   "execution_count": null,
   "metadata": {
    "collapsed": true
   },
   "outputs": [],
   "source": []
  },
  {
   "cell_type": "code",
   "execution_count": null,
   "metadata": {
    "collapsed": true
   },
   "outputs": [],
   "source": []
  },
  {
   "cell_type": "code",
   "execution_count": null,
   "metadata": {
    "collapsed": true
   },
   "outputs": [],
   "source": []
  },
  {
   "cell_type": "code",
   "execution_count": null,
   "metadata": {
    "collapsed": true
   },
   "outputs": [],
   "source": []
  },
  {
   "cell_type": "code",
   "execution_count": null,
   "metadata": {
    "collapsed": true
   },
   "outputs": [],
   "source": []
  },
  {
   "cell_type": "code",
   "execution_count": null,
   "metadata": {
    "collapsed": true
   },
   "outputs": [],
   "source": []
  },
  {
   "cell_type": "code",
   "execution_count": null,
   "metadata": {
    "collapsed": true
   },
   "outputs": [],
   "source": []
  },
  {
   "cell_type": "code",
   "execution_count": null,
   "metadata": {
    "collapsed": true
   },
   "outputs": [],
   "source": []
  },
  {
   "cell_type": "code",
   "execution_count": null,
   "metadata": {
    "collapsed": true
   },
   "outputs": [],
   "source": []
  },
  {
   "cell_type": "code",
   "execution_count": null,
   "metadata": {
    "collapsed": true
   },
   "outputs": [],
   "source": []
  },
  {
   "cell_type": "code",
   "execution_count": null,
   "metadata": {
    "collapsed": true
   },
   "outputs": [],
   "source": []
  }
 ],
 "metadata": {
  "kernelspec": {
   "display_name": "Python 3",
   "language": "python",
   "name": "python3"
  },
  "language_info": {
   "codemirror_mode": {
    "name": "ipython",
    "version": 3
   },
   "file_extension": ".py",
   "mimetype": "text/x-python",
   "name": "python",
   "nbconvert_exporter": "python",
   "pygments_lexer": "ipython3",
   "version": "3.6.3"
  }
 },
 "nbformat": 4,
 "nbformat_minor": 2
}
